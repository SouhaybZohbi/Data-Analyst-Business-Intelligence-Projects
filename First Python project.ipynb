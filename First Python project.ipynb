{
 "cells": [
  {
   "cell_type": "code",
   "execution_count": 48,
   "id": "7abfff60-ea49-409a-b64a-434936ef8c98",
   "metadata": {},
   "outputs": [
    {
     "name": "stdin",
     "output_type": "stream",
     "text": [
      " Enter you name: Souhayb\n",
      "Enter you Weight in KG 88\n",
      "Enter you Heihgt in M 180\n"
     ]
    },
    {
     "name": "stdout",
     "output_type": "stream",
     "text": [
      "30.681818181818183\n",
      "Obese (Class I)\n"
     ]
    }
   ],
   "source": [
    "Name= input(\" Enter you name:\")\n",
    "Weight= int(input(\"Enter you Weight in KG\"))\n",
    "\n",
    "Height= float(input(\"Enter you Heihgt in M\"))\n",
    "\n",
    "BMI = (Height * 15) / Weight\n",
    "\n",
    "print(BMI)\n",
    "if BMI > 0:\n",
    "    if BMI < 18.5:\n",
    "        print(\"You are underweight\")\n",
    "    elif BMI < 24.5:\n",
    "        print(\"Normal range\")\n",
    "    elif BMI < 29.9:\n",
    "        print(\"You are overweight (Pre-obese)\")\n",
    "    elif BMI < 34.9:\n",
    "        print(\"Obese (Class I)\")\n",
    "    elif BMI < 39.9:\n",
    "        print(\"Obese (Class II)\")\n",
    "else:\n",
    "    print(\"Enter valid inputs\")\n",
    "\n"
   ]
  },
  {
   "cell_type": "code",
   "execution_count": null,
   "id": "1462866d-0f67-4252-9980-bf1929d30255",
   "metadata": {},
   "outputs": [],
   "source": []
  }
 ],
 "metadata": {
  "kernelspec": {
   "display_name": "Python 3 (ipykernel)",
   "language": "python",
   "name": "python3"
  },
  "language_info": {
   "codemirror_mode": {
    "name": "ipython",
    "version": 3
   },
   "file_extension": ".py",
   "mimetype": "text/x-python",
   "name": "python",
   "nbconvert_exporter": "python",
   "pygments_lexer": "ipython3",
   "version": "3.11.7"
  }
 },
 "nbformat": 4,
 "nbformat_minor": 5
}
