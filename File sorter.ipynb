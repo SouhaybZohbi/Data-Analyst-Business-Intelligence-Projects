{
 "cells": [
  {
   "cell_type": "code",
   "execution_count": 33,
   "id": "24d5e082-a6df-4c3e-af82-72d0df2fdcb6",
   "metadata": {},
   "outputs": [],
   "source": [
    "import os, shutil"
   ]
  },
  {
   "cell_type": "code",
   "execution_count": 34,
   "id": "9f9f23d8-5ddb-4d77-abaf-d56167f17faf",
   "metadata": {},
   "outputs": [],
   "source": [
    "path = r\"C:/Users/ADMIN/Desktop/Souhayb/\""
   ]
  },
  {
   "cell_type": "code",
   "execution_count": 35,
   "id": "d31d2bf3-9487-4ad2-8a18-e4f428320a01",
   "metadata": {},
   "outputs": [],
   "source": [
    "file_name= os.listdir(path)"
   ]
  },
  {
   "cell_type": "code",
   "execution_count": 54,
   "id": "69962813-2d36-42ce-b490-f073dd193c58",
   "metadata": {},
   "outputs": [],
   "source": [
    "folder_names = ['CSV Files', 'jpg Files', 'pdf Files']\n",
    "for loop in range(0, 3):\n",
    "    if not os.path.exists(path + folder_names[loop]):\n",
    "        print(path + folder_names[loop])\n",
    "        os.makedirs(path + folder_names[loop])\n",
    "\n",
    "for file in file_name:\n",
    "    if \".pdf\" in file.lower() and not os.path.exists(os.path.join(path, \"pdf files\", file)):\n",
    "        shutil.move(os.path.join(path, file), os.path.join(path, \"pdf files\", file))\n",
    "    elif \".CSV\" in file.lower() and not os.path.exists(os.path.join(path, \"CSV files\", file)):\n",
    "        shutil.move(os.path.join(path, file), os.path.join(path, \"CSV files\", file))\n",
    "    elif \".jpg\" in file.lower() and not os.path.exists(os.path.join(path, \"jpg files\", file)):\n",
    "        shutil.move(os.path.join(path, file), os.path.join(path, \"jpg files\", file))"
   ]
  },
  {
   "cell_type": "code",
   "execution_count": null,
   "id": "4ec1d907-f5a9-48e9-b1ba-ce2d7c9d5fbd",
   "metadata": {},
   "outputs": [],
   "source": []
  }
 ],
 "metadata": {
  "kernelspec": {
   "display_name": "Python 3 (ipykernel)",
   "language": "python",
   "name": "python3"
  },
  "language_info": {
   "codemirror_mode": {
    "name": "ipython",
    "version": 3
   },
   "file_extension": ".py",
   "mimetype": "text/x-python",
   "name": "python",
   "nbconvert_exporter": "python",
   "pygments_lexer": "ipython3",
   "version": "3.11.7"
  }
 },
 "nbformat": 4,
 "nbformat_minor": 5
}
